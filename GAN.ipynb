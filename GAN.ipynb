{
 "cells": [
  {
   "cell_type": "code",
   "execution_count": 1,
   "id": "5bfa0797",
   "metadata": {},
   "outputs": [],
   "source": [
    "import torch\n",
    "from torch import nn\n",
    "\n",
    "import math\n",
    "import matplotlib.pyplot as plt"
   ]
  },
  {
   "cell_type": "code",
   "execution_count": 2,
   "id": "1667161e",
   "metadata": {},
   "outputs": [
    {
     "data": {
      "text/plain": [
       "<torch._C.Generator at 0x2b8b7b63650>"
      ]
     },
     "execution_count": 2,
     "metadata": {},
     "output_type": "execute_result"
    }
   ],
   "source": [
    "torch.manual_seed(111)"
   ]
  },
  {
   "cell_type": "code",
   "execution_count": 3,
   "id": "7bc22925",
   "metadata": {},
   "outputs": [],
   "source": [
    "train_data_length = 1024\n",
    "train_data = torch.zeros((train_data_length, 2))\n",
    "train_data[:, 0] = 2 * math.pi * torch.rand(train_data_length)\n",
    "train_data[:, 1] = torch.sin(train_data[:, 0])\n",
    "train_labels = torch.zeros(train_data_length)\n",
    "train_set = [\n",
    "    (train_data[i], train_labels[i]) for i in range(train_data_length)\n",
    "]"
   ]
  },
  {
   "cell_type": "code",
   "execution_count": 4,
   "id": "7f69099c",
   "metadata": {},
   "outputs": [
    {
     "data": {
      "text/plain": [
       "[<matplotlib.lines.Line2D at 0x2b8bb034af0>]"
      ]
     },
     "execution_count": 4,
     "metadata": {},
     "output_type": "execute_result"
    },
    {
     "data": {
      "image/png": "[encoded data removed]",
      "text/plain": [
       "<Figure size 432x288 with 1 Axes>"
      ]
     },
     "metadata": {
      "needs_background": "light"
     },
     "output_type": "display_data"
    }
   ],
   "source": [
    "plt.plot(train_data[:, 0], train_data[:, 1], \".\")"
   ]
  },
  {
   "cell_type": "code",
   "execution_count": 5,
   "id": "b6d357c0",
   "metadata": {},
   "outputs": [],
   "source": [
    "batch_size = 32\n",
    "train_loader = torch.utils.data.DataLoader(\n",
    "    train_set, batch_size=batch_size, shuffle=True\n",
    ")"
   ]
  },
  {
   "cell_type": "code",
   "execution_count": 6,
   "id": "cceddcd9",
   "metadata": {},
   "outputs": [],
   "source": [
    "class Discriminator(nn.Module):\n",
    "    def __init__(self):\n",
    "        super().__init__()\n",
    "        self.model = nn.Sequential(\n",
    "            nn.Linear(2, 256),\n",
    "            nn.ReLU(),\n",
    "            nn.Dropout(0.3),\n",
    "            nn.Linear(256, 128),\n",
    "            nn.ReLU(),\n",
    "            nn.Dropout(0.3),\n",
    "            nn.Linear(128, 64),\n",
    "            nn.ReLU(),\n",
    "            nn.Dropout(0.3),\n",
    "            nn.Linear(64, 1),\n",
    "            nn.Sigmoid(),\n",
    "        )\n",
    "\n",
    "    def forward(self, x):\n",
    "        output = self.model(x)\n",
    "        return output"
   ]
  },
  {
   "cell_type": "code",
   "execution_count": 7,
   "id": "b973e6a9",
   "metadata": {},
   "outputs": [],
   "source": [
    "discriminator = Discriminator()"
   ]
  },
  {
   "cell_type": "code",
   "execution_count": 8,
   "id": "287bb508",
   "metadata": {},
   "outputs": [],
   "source": [
    "class Generator(nn.Module):\n",
    "    def __init__(self):\n",
    "        super().__init__()\n",
    "        self.model = nn.Sequential(\n",
    "            nn.Linear(2, 16),\n",
    "            nn.ReLU(),\n",
    "            nn.Linear(16, 32),\n",
    "            nn.ReLU(),\n",
    "            nn.Linear(32, 2),\n",
    "        )\n",
    "\n",
    "    def forward(self, x):\n",
    "        output = self.model(x)\n",
    "        return output\n",
    "\n",
    "generator = Generator()"
   ]
  },
  {
   "cell_type": "code",
   "execution_count": 9,
   "id": "44a186c2",
   "metadata": {},
   "outputs": [],
   "source": [
    "lr = 0.001\n",
    "num_epochs = 300\n",
    "loss_function = nn.BCELoss()"
   ]
  },
  {
   "cell_type": "code",
   "execution_count": 10,
   "id": "36ff9d58",
   "metadata": {},
   "outputs": [],
   "source": [
    "optimizer_discriminator = torch.optim.Adam(discriminator.parameters(), lr=lr)\n",
    "optimizer_generator = torch.optim.Adam(generator.parameters(), lr=lr)"
   ]
  },
  {
   "cell_type": "code",
   "execution_count": 11,
   "id": "520760e4",
   "metadata": {
    "scrolled": true
   },
   "outputs": [
    {
     "name": "stdout",
     "output_type": "stream",
     "text": [
      "Epoch: 0 Loss D.: 0.156594917178154\n",
      "Epoch: 0 Loss G.: 2.1254444122314453\n",
      "Epoch: 10 Loss D.: 0.7301512360572815\n",
      "Epoch: 10 Loss G.: 0.8579631447792053\n",
      "Epoch: 20 Loss D.: 0.5816866159439087\n",
      "Epoch: 20 Loss G.: 1.1250827312469482\n",
      "Epoch: 30 Loss D.: 0.5616251826286316\n",
      "Epoch: 30 Loss G.: 0.83718341588974\n",
      "Epoch: 40 Loss D.: 0.6246228814125061\n",
      "Epoch: 40 Loss G.: 0.7606035470962524\n",
      "Epoch: 50 Loss D.: 0.584062397480011\n",
      "Epoch: 50 Loss G.: 0.8753417730331421\n",
      "Epoch: 60 Loss D.: 0.6652297973632812\n",
      "Epoch: 60 Loss G.: 0.7379186749458313\n",
      "Epoch: 70 Loss D.: 0.6869044303894043\n",
      "Epoch: 70 Loss G.: 0.7845105528831482\n",
      "Epoch: 80 Loss D.: 0.6758691668510437\n",
      "Epoch: 80 Loss G.: 0.7321891784667969\n",
      "Epoch: 90 Loss D.: 0.6784077286720276\n",
      "Epoch: 90 Loss G.: 0.8751614093780518\n",
      "Epoch: 100 Loss D.: 0.67814040184021\n",
      "Epoch: 100 Loss G.: 0.683447003364563\n",
      "Epoch: 110 Loss D.: 0.694033682346344\n",
      "Epoch: 110 Loss G.: 0.729600191116333\n",
      "Epoch: 120 Loss D.: 0.6588946580886841\n",
      "Epoch: 120 Loss G.: 0.7423774003982544\n",
      "Epoch: 130 Loss D.: 0.6645428538322449\n",
      "Epoch: 130 Loss G.: 0.7275622487068176\n",
      "Epoch: 140 Loss D.: 0.6916176080703735\n",
      "Epoch: 140 Loss G.: 0.8032573461532593\n",
      "Epoch: 150 Loss D.: 0.6672096848487854\n",
      "Epoch: 150 Loss G.: 0.6713302135467529\n",
      "Epoch: 160 Loss D.: 0.6569375395774841\n",
      "Epoch: 160 Loss G.: 0.6979213356971741\n",
      "Epoch: 170 Loss D.: 0.7048022747039795\n",
      "Epoch: 170 Loss G.: 0.7005237936973572\n",
      "Epoch: 180 Loss D.: 0.6788825988769531\n",
      "Epoch: 180 Loss G.: 0.6958333253860474\n",
      "Epoch: 190 Loss D.: 0.6929284334182739\n",
      "Epoch: 190 Loss G.: 0.6771210432052612\n",
      "Epoch: 200 Loss D.: 0.6791688203811646\n",
      "Epoch: 200 Loss G.: 0.6925402879714966\n",
      "Epoch: 210 Loss D.: 0.6703425645828247\n",
      "Epoch: 210 Loss G.: 0.7311970591545105\n",
      "Epoch: 220 Loss D.: 0.6708603501319885\n",
      "Epoch: 220 Loss G.: 0.7244771122932434\n",
      "Epoch: 230 Loss D.: 0.7058728337287903\n",
      "Epoch: 230 Loss G.: 0.653255045413971\n",
      "Epoch: 240 Loss D.: 0.6951451301574707\n",
      "Epoch: 240 Loss G.: 0.6906875371932983\n",
      "Epoch: 250 Loss D.: 0.6861580610275269\n",
      "Epoch: 250 Loss G.: 0.6966344714164734\n",
      "Epoch: 260 Loss D.: 0.6730513572692871\n",
      "Epoch: 260 Loss G.: 0.744425356388092\n",
      "Epoch: 270 Loss D.: 0.6711369752883911\n",
      "Epoch: 270 Loss G.: 0.7768206000328064\n",
      "Epoch: 280 Loss D.: 0.6171748042106628\n",
      "Epoch: 280 Loss G.: 0.7626948356628418\n",
      "Epoch: 290 Loss D.: 0.6731470823287964\n",
      "Epoch: 290 Loss G.: 0.7406033277511597\n"
     ]
    }
   ],
   "source": [
    "for epoch in range(num_epochs):\n",
    "    for n, (real_samples, _) in enumerate(train_loader):\n",
    "        # Data for training the discriminator\n",
    "        real_samples_labels = torch.ones((batch_size, 1))\n",
    "        latent_space_samples = torch.randn((batch_size, 2))\n",
    "        generated_samples = generator(latent_space_samples)\n",
    "        generated_samples_labels = torch.zeros((batch_size, 1))\n",
    "        all_samples = torch.cat((real_samples, generated_samples))\n",
    "        all_samples_labels = torch.cat(\n",
    "            (real_samples_labels, generated_samples_labels)\n",
    "        )\n",
    "\n",
    "        # Training the discriminator\n",
    "        discriminator.zero_grad()\n",
    "        output_discriminator = discriminator(all_samples)\n",
    "        loss_discriminator = loss_function(\n",
    "            output_discriminator, all_samples_labels)\n",
    "        loss_discriminator.backward()\n",
    "        optimizer_discriminator.step()\n",
    "\n",
    "        # Data for training the generator\n",
    "        latent_space_samples = torch.randn((batch_size, 2))\n",
    "\n",
    "        # Training the generator\n",
    "        generator.zero_grad()\n",
    "        generated_samples = generator(latent_space_samples)\n",
    "        output_discriminator_generated = discriminator(generated_samples)\n",
    "        loss_generator = loss_function(\n",
    "            output_discriminator_generated, real_samples_labels\n",
    "        )\n",
    "        loss_generator.backward()\n",
    "        optimizer_generator.step()\n",
    "\n",
    "        # Show loss\n",
    "        if epoch % 10 == 0 and n == batch_size - 1:\n",
    "            print(f\"Epoch: {epoch} Loss D.: {loss_discriminator}\")\n",
    "            print(f\"Epoch: {epoch} Loss G.: {loss_generator}\")"
   ]
  },
  {
   "cell_type": "code",
   "execution_count": 12,
   "id": "38a9b0ba",
   "metadata": {},
   "outputs": [],
   "source": [
    "latent_space_samples = torch.randn(100, 2)\n",
    "generated_samples = generator(latent_space_samples)"
   ]
  },
  {
   "cell_type": "code",
   "execution_count": 13,
   "id": "5ecac509",
   "metadata": {},
   "outputs": [
    {
     "data": {
      "text/plain": [
       "[<matplotlib.lines.Line2D at 0x2b8bc157910>]"
      ]
     },
     "execution_count": 13,
     "metadata": {},
     "output_type": "execute_result"
    },
    {
     "data": {
      "image/png": "[encoded data removed]",
      "text/plain": [
       "<Figure size 432x288 with 1 Axes>"
      ]
     },
     "metadata": {
      "needs_background": "light"
     },
     "output_type": "display_data"
    }
   ],
   "source": [
    "generated_samples = generated_samples.detach()\n",
    "plt.plot(generated_samples[:, 0], generated_samples[:, 1], \".\")"
   ]
  },
  {
   "cell_type": "code",
   "execution_count": null,
   "id": "25fceaf3",
   "metadata": {},
   "outputs": [],
   "source": []
  }
 ],
 "metadata": {
  "kernelspec": {
   "display_name": "gan",
   "language": "python",
   "name": "gan"
  },
  "language_info": {
   "codemirror_mode": {
    "name": "ipython",
    "version": 3
   },
   "file_extension": ".py",
   "mimetype": "text/x-python",
   "name": "python",
   "nbconvert_exporter": "python",
   "pygments_lexer": "ipython3",
   "version": "3.8.13"
  }
 },
 "nbformat": 4,
 "nbformat_minor": 5
}
